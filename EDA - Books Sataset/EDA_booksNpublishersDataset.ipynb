{
 "cells": [
  {
   "cell_type": "markdown",
   "id": "3918cb03-d21a-48d8-95b3-70f40aa221f9",
   "metadata": {},
   "source": [
    "# Import and Read"
   ]
  },
  {
   "cell_type": "code",
   "execution_count": 43,
   "id": "07e17f49-9c52-4578-9ee9-49b66069c429",
   "metadata": {},
   "outputs": [],
   "source": [
    "import numpy as np\n",
    "import pandas as pd\n",
    "import matplotlib.pyplot as plt\n",
    "import seaborn as sns"
   ]
  },
  {
   "cell_type": "code",
   "execution_count": 44,
   "id": "c00cb349-b976-4c57-8293-926936d3b8de",
   "metadata": {},
   "outputs": [
    {
     "data": {
      "text/plain": [
       "(1070, 15)"
      ]
     },
     "execution_count": 44,
     "metadata": {},
     "output_type": "execute_result"
    }
   ],
   "source": [
    "df = pd.read_csv('Books_Data_Clean.csv')\n",
    "df.shape"
   ]
  },
  {
   "cell_type": "code",
   "execution_count": 45,
   "id": "104086e0-c127-409f-b5c8-acfc660f9db6",
   "metadata": {},
   "outputs": [
    {
     "data": {
      "text/html": [
       "<div>\n",
       "<style scoped>\n",
       "    .dataframe tbody tr th:only-of-type {\n",
       "        vertical-align: middle;\n",
       "    }\n",
       "\n",
       "    .dataframe tbody tr th {\n",
       "        vertical-align: top;\n",
       "    }\n",
       "\n",
       "    .dataframe thead th {\n",
       "        text-align: right;\n",
       "    }\n",
       "</style>\n",
       "<table border=\"1\" class=\"dataframe\">\n",
       "  <thead>\n",
       "    <tr style=\"text-align: right;\">\n",
       "      <th></th>\n",
       "      <th>index</th>\n",
       "      <th>Publishing Year</th>\n",
       "      <th>Book Name</th>\n",
       "      <th>Author</th>\n",
       "      <th>language_code</th>\n",
       "      <th>Author_Rating</th>\n",
       "      <th>Book_average_rating</th>\n",
       "      <th>Book_ratings_count</th>\n",
       "      <th>genre</th>\n",
       "      <th>gross sales</th>\n",
       "      <th>publisher revenue</th>\n",
       "      <th>sale price</th>\n",
       "      <th>sales rank</th>\n",
       "      <th>Publisher</th>\n",
       "      <th>units sold</th>\n",
       "    </tr>\n",
       "  </thead>\n",
       "  <tbody>\n",
       "    <tr>\n",
       "      <th>0</th>\n",
       "      <td>0</td>\n",
       "      <td>1975.0</td>\n",
       "      <td>Beowulf</td>\n",
       "      <td>Unknown, Seamus Heaney</td>\n",
       "      <td>en-US</td>\n",
       "      <td>Novice</td>\n",
       "      <td>3.42</td>\n",
       "      <td>155903</td>\n",
       "      <td>genre fiction</td>\n",
       "      <td>34160.0</td>\n",
       "      <td>20496.0</td>\n",
       "      <td>4.88</td>\n",
       "      <td>1</td>\n",
       "      <td>HarperCollins Publishers</td>\n",
       "      <td>7000</td>\n",
       "    </tr>\n",
       "    <tr>\n",
       "      <th>1</th>\n",
       "      <td>1</td>\n",
       "      <td>1987.0</td>\n",
       "      <td>Batman: Year One</td>\n",
       "      <td>Frank Miller, David Mazzucchelli, Richmond Lew...</td>\n",
       "      <td>eng</td>\n",
       "      <td>Intermediate</td>\n",
       "      <td>4.23</td>\n",
       "      <td>145267</td>\n",
       "      <td>genre fiction</td>\n",
       "      <td>12437.5</td>\n",
       "      <td>7462.5</td>\n",
       "      <td>1.99</td>\n",
       "      <td>2</td>\n",
       "      <td>HarperCollins Publishers</td>\n",
       "      <td>6250</td>\n",
       "    </tr>\n",
       "    <tr>\n",
       "      <th>2</th>\n",
       "      <td>2</td>\n",
       "      <td>2015.0</td>\n",
       "      <td>Go Set a Watchman</td>\n",
       "      <td>Harper Lee</td>\n",
       "      <td>eng</td>\n",
       "      <td>Novice</td>\n",
       "      <td>3.31</td>\n",
       "      <td>138669</td>\n",
       "      <td>genre fiction</td>\n",
       "      <td>47795.0</td>\n",
       "      <td>28677.0</td>\n",
       "      <td>8.69</td>\n",
       "      <td>3</td>\n",
       "      <td>Amazon Digital Services,  Inc.</td>\n",
       "      <td>5500</td>\n",
       "    </tr>\n",
       "    <tr>\n",
       "      <th>3</th>\n",
       "      <td>3</td>\n",
       "      <td>2008.0</td>\n",
       "      <td>When You Are Engulfed in Flames</td>\n",
       "      <td>David Sedaris</td>\n",
       "      <td>en-US</td>\n",
       "      <td>Intermediate</td>\n",
       "      <td>4.04</td>\n",
       "      <td>150898</td>\n",
       "      <td>fiction</td>\n",
       "      <td>41250.0</td>\n",
       "      <td>24750.0</td>\n",
       "      <td>7.50</td>\n",
       "      <td>3</td>\n",
       "      <td>Hachette Book Group</td>\n",
       "      <td>5500</td>\n",
       "    </tr>\n",
       "    <tr>\n",
       "      <th>4</th>\n",
       "      <td>4</td>\n",
       "      <td>2011.0</td>\n",
       "      <td>Daughter of Smoke &amp; Bone</td>\n",
       "      <td>Laini Taylor</td>\n",
       "      <td>eng</td>\n",
       "      <td>Intermediate</td>\n",
       "      <td>4.04</td>\n",
       "      <td>198283</td>\n",
       "      <td>genre fiction</td>\n",
       "      <td>37952.5</td>\n",
       "      <td>22771.5</td>\n",
       "      <td>7.99</td>\n",
       "      <td>4</td>\n",
       "      <td>Penguin Group (USA) LLC</td>\n",
       "      <td>4750</td>\n",
       "    </tr>\n",
       "  </tbody>\n",
       "</table>\n",
       "</div>"
      ],
      "text/plain": [
       "   index  Publishing Year                        Book Name  \\\n",
       "0      0           1975.0                          Beowulf   \n",
       "1      1           1987.0                 Batman: Year One   \n",
       "2      2           2015.0                Go Set a Watchman   \n",
       "3      3           2008.0  When You Are Engulfed in Flames   \n",
       "4      4           2011.0         Daughter of Smoke & Bone   \n",
       "\n",
       "                                              Author language_code  \\\n",
       "0                             Unknown, Seamus Heaney         en-US   \n",
       "1  Frank Miller, David Mazzucchelli, Richmond Lew...           eng   \n",
       "2                                         Harper Lee           eng   \n",
       "3                                      David Sedaris         en-US   \n",
       "4                                       Laini Taylor           eng   \n",
       "\n",
       "  Author_Rating  Book_average_rating  Book_ratings_count          genre  \\\n",
       "0        Novice                 3.42              155903  genre fiction   \n",
       "1  Intermediate                 4.23              145267  genre fiction   \n",
       "2        Novice                 3.31              138669  genre fiction   \n",
       "3  Intermediate                 4.04              150898        fiction   \n",
       "4  Intermediate                 4.04              198283  genre fiction   \n",
       "\n",
       "   gross sales  publisher revenue  sale price  sales rank  \\\n",
       "0      34160.0            20496.0        4.88           1   \n",
       "1      12437.5             7462.5        1.99           2   \n",
       "2      47795.0            28677.0        8.69           3   \n",
       "3      41250.0            24750.0        7.50           3   \n",
       "4      37952.5            22771.5        7.99           4   \n",
       "\n",
       "                       Publisher   units sold  \n",
       "0        HarperCollins Publishers        7000  \n",
       "1        HarperCollins Publishers        6250  \n",
       "2  Amazon Digital Services,  Inc.        5500  \n",
       "3             Hachette Book Group        5500  \n",
       "4         Penguin Group (USA) LLC        4750  "
      ]
     },
     "execution_count": 45,
     "metadata": {},
     "output_type": "execute_result"
    }
   ],
   "source": [
    "df.head()"
   ]
  },
  {
   "cell_type": "markdown",
   "id": "1018f170-1871-4cc3-926f-1ff89e8135b7",
   "metadata": {},
   "source": [
    "# Cleaning"
   ]
  },
  {
   "cell_type": "code",
   "execution_count": 46,
   "id": "a3899339-37e9-4104-8637-9b448a40ebad",
   "metadata": {},
   "outputs": [],
   "source": [
    "df = df.drop('index', axis = 1)"
   ]
  },
  {
   "cell_type": "code",
   "execution_count": 47,
   "id": "c0255860-8db1-4105-b987-2f2c3dbe5513",
   "metadata": {},
   "outputs": [
    {
     "data": {
      "text/plain": [
       "Index(['Publishing Year', 'Book Name', 'Author', 'language_code',\n",
       "       'Author_Rating', 'Book_average_rating', 'Book_ratings_count', 'genre',\n",
       "       'gross sales', 'publisher revenue', 'sale price', 'sales rank',\n",
       "       'Publisher ', 'units sold'],\n",
       "      dtype='object')"
      ]
     },
     "execution_count": 47,
     "metadata": {},
     "output_type": "execute_result"
    }
   ],
   "source": [
    "df.columns"
   ]
  },
  {
   "cell_type": "code",
   "execution_count": 48,
   "id": "54a474d4-2dac-4d58-a677-b54cff06ba92",
   "metadata": {},
   "outputs": [
    {
     "data": {
      "text/plain": [
       "Publishing Year        float64\n",
       "Book Name               object\n",
       "Author                  object\n",
       "language_code           object\n",
       "Author_Rating           object\n",
       "Book_average_rating    float64\n",
       "Book_ratings_count       int64\n",
       "genre                   object\n",
       "gross sales            float64\n",
       "publisher revenue      float64\n",
       "sale price             float64\n",
       "sales rank               int64\n",
       "Publisher               object\n",
       "units sold               int64\n",
       "dtype: object"
      ]
     },
     "execution_count": 48,
     "metadata": {},
     "output_type": "execute_result"
    }
   ],
   "source": [
    "df.dtypes"
   ]
  },
  {
   "cell_type": "code",
   "execution_count": 49,
   "id": "67c9a9ff-ad1a-45d6-b2df-d734413e3c90",
   "metadata": {},
   "outputs": [
    {
     "data": {
      "text/plain": [
       "Index(['Publishing_Year', 'Book_Name', 'Author', 'Language', 'Author_Rating',\n",
       "       'Average_Rating', 'Ratings', 'Genre', 'Gross_Sales',\n",
       "       'Publisher_Revenue', 'Sales_Price', 'Sales_Rank', 'Publisher',\n",
       "       'Units_Sold'],\n",
       "      dtype='object')"
      ]
     },
     "execution_count": 49,
     "metadata": {},
     "output_type": "execute_result"
    }
   ],
   "source": [
    "df = df.rename(columns={'Publishing Year' : 'Publishing_Year',\n",
    "                   'Book Name' : 'Book_Name',\n",
    "                   'language_code' : 'Language',\n",
    "                   'Book_average_rating' : 'Average_Rating',\n",
    "                   'Book_ratings_count' : 'Ratings',\n",
    "                   'genre' : 'Genre',\n",
    "                   'gross sales' : 'Gross_Sales',\n",
    "                   'publisher revenue' : 'Publisher_Revenue',\n",
    "                   'sale price' : 'Sales_Price',\n",
    "                   'sales rank' : 'Sales_Rank',\n",
    "                   'Publisher ' : 'Publisher',\n",
    "                   'units sold' : 'Units_Sold'})\n",
    "df.columns"
   ]
  },
  {
   "cell_type": "code",
   "execution_count": 51,
   "id": "589af796-fde9-4241-93ef-c368491a69fa",
   "metadata": {},
   "outputs": [
    {
     "data": {
      "text/html": [
       "<div>\n",
       "<style scoped>\n",
       "    .dataframe tbody tr th:only-of-type {\n",
       "        vertical-align: middle;\n",
       "    }\n",
       "\n",
       "    .dataframe tbody tr th {\n",
       "        vertical-align: top;\n",
       "    }\n",
       "\n",
       "    .dataframe thead th {\n",
       "        text-align: right;\n",
       "    }\n",
       "</style>\n",
       "<table border=\"1\" class=\"dataframe\">\n",
       "  <thead>\n",
       "    <tr style=\"text-align: right;\">\n",
       "      <th></th>\n",
       "      <th>Publishing_Year</th>\n",
       "      <th>Average_Rating</th>\n",
       "      <th>Ratings</th>\n",
       "      <th>Gross_Sales</th>\n",
       "      <th>Publisher_Revenue</th>\n",
       "      <th>Sales_Price</th>\n",
       "      <th>Sales_Rank</th>\n",
       "      <th>Units_Sold</th>\n",
       "    </tr>\n",
       "  </thead>\n",
       "  <tbody>\n",
       "    <tr>\n",
       "      <th>count</th>\n",
       "      <td>1009.000000</td>\n",
       "      <td>1009.000000</td>\n",
       "      <td>1009.000000</td>\n",
       "      <td>1009.000000</td>\n",
       "      <td>1009.000000</td>\n",
       "      <td>1009.000000</td>\n",
       "      <td>1009.000000</td>\n",
       "      <td>1009.000000</td>\n",
       "    </tr>\n",
       "    <tr>\n",
       "      <th>mean</th>\n",
       "      <td>1994.730426</td>\n",
       "      <td>4.012230</td>\n",
       "      <td>94817.793855</td>\n",
       "      <td>1832.644985</td>\n",
       "      <td>841.360638</td>\n",
       "      <td>4.844311</td>\n",
       "      <td>613.314172</td>\n",
       "      <td>9744.482656</td>\n",
       "    </tr>\n",
       "    <tr>\n",
       "      <th>std</th>\n",
       "      <td>23.204719</td>\n",
       "      <td>0.246492</td>\n",
       "      <td>31473.890412</td>\n",
       "      <td>3947.885096</td>\n",
       "      <td>2279.579848</td>\n",
       "      <td>3.561712</td>\n",
       "      <td>369.628663</td>\n",
       "      <td>15350.021050</td>\n",
       "    </tr>\n",
       "    <tr>\n",
       "      <th>min</th>\n",
       "      <td>1901.000000</td>\n",
       "      <td>2.970000</td>\n",
       "      <td>27308.000000</td>\n",
       "      <td>104.940000</td>\n",
       "      <td>0.000000</td>\n",
       "      <td>0.990000</td>\n",
       "      <td>1.000000</td>\n",
       "      <td>106.000000</td>\n",
       "    </tr>\n",
       "    <tr>\n",
       "      <th>25%</th>\n",
       "      <td>1989.000000</td>\n",
       "      <td>3.860000</td>\n",
       "      <td>70701.000000</td>\n",
       "      <td>366.300000</td>\n",
       "      <td>0.000000</td>\n",
       "      <td>1.990000</td>\n",
       "      <td>291.000000</td>\n",
       "      <td>570.000000</td>\n",
       "    </tr>\n",
       "    <tr>\n",
       "      <th>50%</th>\n",
       "      <td>2003.000000</td>\n",
       "      <td>4.030000</td>\n",
       "      <td>89204.000000</td>\n",
       "      <td>792.000000</td>\n",
       "      <td>273.240000</td>\n",
       "      <td>3.990000</td>\n",
       "      <td>596.000000</td>\n",
       "      <td>3942.000000</td>\n",
       "    </tr>\n",
       "    <tr>\n",
       "      <th>75%</th>\n",
       "      <td>2010.000000</td>\n",
       "      <td>4.180000</td>\n",
       "      <td>113400.000000</td>\n",
       "      <td>1470.260000</td>\n",
       "      <td>714.756000</td>\n",
       "      <td>6.990000</td>\n",
       "      <td>933.000000</td>\n",
       "      <td>5427.000000</td>\n",
       "    </tr>\n",
       "    <tr>\n",
       "      <th>max</th>\n",
       "      <td>2016.000000</td>\n",
       "      <td>4.770000</td>\n",
       "      <td>206792.000000</td>\n",
       "      <td>47795.000000</td>\n",
       "      <td>28677.000000</td>\n",
       "      <td>33.860000</td>\n",
       "      <td>1273.000000</td>\n",
       "      <td>61560.000000</td>\n",
       "    </tr>\n",
       "  </tbody>\n",
       "</table>\n",
       "</div>"
      ],
      "text/plain": [
       "       Publishing_Year  Average_Rating        Ratings   Gross_Sales  \\\n",
       "count      1009.000000     1009.000000    1009.000000   1009.000000   \n",
       "mean       1994.730426        4.012230   94817.793855   1832.644985   \n",
       "std          23.204719        0.246492   31473.890412   3947.885096   \n",
       "min        1901.000000        2.970000   27308.000000    104.940000   \n",
       "25%        1989.000000        3.860000   70701.000000    366.300000   \n",
       "50%        2003.000000        4.030000   89204.000000    792.000000   \n",
       "75%        2010.000000        4.180000  113400.000000   1470.260000   \n",
       "max        2016.000000        4.770000  206792.000000  47795.000000   \n",
       "\n",
       "       Publisher_Revenue  Sales_Price   Sales_Rank    Units_Sold  \n",
       "count        1009.000000  1009.000000  1009.000000   1009.000000  \n",
       "mean          841.360638     4.844311   613.314172   9744.482656  \n",
       "std          2279.579848     3.561712   369.628663  15350.021050  \n",
       "min             0.000000     0.990000     1.000000    106.000000  \n",
       "25%             0.000000     1.990000   291.000000    570.000000  \n",
       "50%           273.240000     3.990000   596.000000   3942.000000  \n",
       "75%           714.756000     6.990000   933.000000   5427.000000  \n",
       "max         28677.000000    33.860000  1273.000000  61560.000000  "
      ]
     },
     "execution_count": 51,
     "metadata": {},
     "output_type": "execute_result"
    }
   ],
   "source": [
    "df.describe()"
   ]
  },
  {
   "cell_type": "code",
   "execution_count": 50,
   "id": "78cab59b-a3a9-4f29-b10f-f458b25149d2",
   "metadata": {},
   "outputs": [],
   "source": [
    " df = df[df['Publishing_Year'] > 1900]"
   ]
  },
  {
   "cell_type": "code",
   "execution_count": 55,
   "id": "9234555e-ca35-4c11-bc88-0bf2a60125b8",
   "metadata": {},
   "outputs": [
    {
     "data": {
      "text/plain": [
       "Publishing_Year       0\n",
       "Book_Name             0\n",
       "Author                0\n",
       "Language             47\n",
       "Author_Rating         0\n",
       "Average_Rating        0\n",
       "Ratings               0\n",
       "Genre                 0\n",
       "Gross_Sales           0\n",
       "Publisher_Revenue     0\n",
       "Sales_Price           0\n",
       "Sales_Rank            0\n",
       "Publisher             0\n",
       "Units_Sold            0\n",
       "dtype: int64"
      ]
     },
     "execution_count": 55,
     "metadata": {},
     "output_type": "execute_result"
    }
   ],
   "source": [
    "df.isna().sum()"
   ]
  },
  {
   "cell_type": "code",
   "execution_count": 54,
   "id": "99d6354c-0ed9-4eaa-9be3-e931bb46eee3",
   "metadata": {},
   "outputs": [],
   "source": [
    "df.dropna(subset = 'Book_Name',inplace = True)"
   ]
  },
  {
   "cell_type": "code",
   "execution_count": 64,
   "id": "c336ef74-f2c5-4449-abd2-8229c9bc0628",
   "metadata": {},
   "outputs": [
    {
     "data": {
      "text/plain": [
       "Publishing_Year      101\n",
       "Book_Name            987\n",
       "Author               669\n",
       "Language               5\n",
       "Author_Rating          4\n",
       "Average_Rating       133\n",
       "Ratings              983\n",
       "Genre                  3\n",
       "Gross_Sales          774\n",
       "Publisher_Revenue    570\n",
       "Sales_Price          143\n",
       "Sales_Rank           818\n",
       "Publisher              9\n",
       "Units_Sold           470\n",
       "dtype: int64"
      ]
     },
     "execution_count": 64,
     "metadata": {},
     "output_type": "execute_result"
    }
   ],
   "source": [
    "df.nunique()"
   ]
  },
  {
   "cell_type": "code",
   "execution_count": 60,
   "id": "16c458ac-9acf-4e14-a830-87969319de67",
   "metadata": {},
   "outputs": [
    {
     "data": {
      "text/plain": [
       "array(['fiction', 'nonfiction', 'children'], dtype=object)"
      ]
     },
     "execution_count": 60,
     "metadata": {},
     "output_type": "execute_result"
    }
   ],
   "source": [
    "df['Genre'].unique()"
   ]
  },
  {
   "cell_type": "code",
   "execution_count": 59,
   "id": "4330ff8d-42ba-4504-b871-eb8e246691a5",
   "metadata": {},
   "outputs": [],
   "source": [
    "df['Genre'] = df['Genre'].replace({'genre fiction' : 'fiction'}) "
   ]
  },
  {
   "cell_type": "code",
   "execution_count": 66,
   "id": "9ac3cfe9-fe18-4f6b-acb2-ceb7daea0442",
   "metadata": {},
   "outputs": [
    {
     "data": {
      "text/plain": [
       "array(['English', 'Unknown', 'Spanish', 'French', 'Dutch', 'Arabic'],\n",
       "      dtype=object)"
      ]
     },
     "execution_count": 66,
     "metadata": {},
     "output_type": "execute_result"
    }
   ],
   "source": [
    "df['Language'].unique()"
   ]
  },
  {
   "cell_type": "code",
   "execution_count": 101,
   "id": "193e671a-e23d-442d-9dd0-b89615f8c040",
   "metadata": {},
   "outputs": [],
   "source": [
    "df[\"Language\"] = df[\"Language\"].replace({\n",
    "    \"en-US\": \"English\",\n",
    "    \"en-GB\": \"English\",\n",
    "    \"en-CA\": \"English\",\n",
    "    \"eng\": \"English\",\n",
    "    \"fre\": \"French\",\n",
    "    \"spa\": \"Spanish\",\n",
    "    \"ara\": \"Arabic\",\n",
    "    \"nl\": \"Dutch\"\n",
    "})\n"
   ]
  },
  {
   "cell_type": "code",
   "execution_count": 102,
   "id": "44ed885e-5327-4358-a97e-8f55e96a44ce",
   "metadata": {},
   "outputs": [],
   "source": [
    "df[\"Language\"] = df[\"Language\"].fillna(\"Unknown\")\n"
   ]
  },
  {
   "cell_type": "code",
   "execution_count": 126,
   "id": "7e73cd51-e3e6-442f-95c5-bbfcaf7a4e2d",
   "metadata": {},
   "outputs": [],
   "source": [
    "df['Publisher'] = df['Publisher'].replace({'HarperCollins Publishing' : 'HarperCollins Publishers',\n",
    "                                'HarperCollins Christian Publishing':'HarperCollins Publishers'})"
   ]
  },
  {
   "cell_type": "code",
   "execution_count": 127,
   "id": "12fcdc8a-c638-4411-a24e-70522b874ee3",
   "metadata": {},
   "outputs": [
    {
     "data": {
      "text/html": [
       "<div>\n",
       "<style scoped>\n",
       "    .dataframe tbody tr th:only-of-type {\n",
       "        vertical-align: middle;\n",
       "    }\n",
       "\n",
       "    .dataframe tbody tr th {\n",
       "        vertical-align: top;\n",
       "    }\n",
       "\n",
       "    .dataframe thead th {\n",
       "        text-align: right;\n",
       "    }\n",
       "</style>\n",
       "<table border=\"1\" class=\"dataframe\">\n",
       "  <thead>\n",
       "    <tr style=\"text-align: right;\">\n",
       "      <th></th>\n",
       "      <th>Publishing_Year</th>\n",
       "      <th>Book_Name</th>\n",
       "      <th>Author</th>\n",
       "      <th>Language</th>\n",
       "      <th>Author_Rating</th>\n",
       "      <th>Average_Rating</th>\n",
       "      <th>Ratings</th>\n",
       "      <th>Genre</th>\n",
       "      <th>Gross_Sales</th>\n",
       "      <th>Publisher_Revenue</th>\n",
       "      <th>Sales_Price</th>\n",
       "      <th>Sales_Rank</th>\n",
       "      <th>Publisher</th>\n",
       "      <th>Units_Sold</th>\n",
       "    </tr>\n",
       "  </thead>\n",
       "  <tbody>\n",
       "    <tr>\n",
       "      <th>0</th>\n",
       "      <td>1975.0</td>\n",
       "      <td>Beowulf</td>\n",
       "      <td>Unknown, Seamus Heaney</td>\n",
       "      <td>English</td>\n",
       "      <td>Novice</td>\n",
       "      <td>3.42</td>\n",
       "      <td>155903</td>\n",
       "      <td>fiction</td>\n",
       "      <td>34160.0</td>\n",
       "      <td>20496.0</td>\n",
       "      <td>4.88</td>\n",
       "      <td>1</td>\n",
       "      <td>HarperCollins Publishers</td>\n",
       "      <td>7000</td>\n",
       "    </tr>\n",
       "    <tr>\n",
       "      <th>1</th>\n",
       "      <td>1987.0</td>\n",
       "      <td>Batman: Year One</td>\n",
       "      <td>Frank Miller, David Mazzucchelli, Richmond Lew...</td>\n",
       "      <td>English</td>\n",
       "      <td>Intermediate</td>\n",
       "      <td>4.23</td>\n",
       "      <td>145267</td>\n",
       "      <td>fiction</td>\n",
       "      <td>12437.5</td>\n",
       "      <td>7462.5</td>\n",
       "      <td>1.99</td>\n",
       "      <td>2</td>\n",
       "      <td>HarperCollins Publishers</td>\n",
       "      <td>6250</td>\n",
       "    </tr>\n",
       "    <tr>\n",
       "      <th>2</th>\n",
       "      <td>2015.0</td>\n",
       "      <td>Go Set a Watchman</td>\n",
       "      <td>Harper Lee</td>\n",
       "      <td>English</td>\n",
       "      <td>Novice</td>\n",
       "      <td>3.31</td>\n",
       "      <td>138669</td>\n",
       "      <td>fiction</td>\n",
       "      <td>47795.0</td>\n",
       "      <td>28677.0</td>\n",
       "      <td>8.69</td>\n",
       "      <td>3</td>\n",
       "      <td>Amazon Digital Services,  Inc.</td>\n",
       "      <td>5500</td>\n",
       "    </tr>\n",
       "    <tr>\n",
       "      <th>3</th>\n",
       "      <td>2008.0</td>\n",
       "      <td>When You Are Engulfed in Flames</td>\n",
       "      <td>David Sedaris</td>\n",
       "      <td>English</td>\n",
       "      <td>Intermediate</td>\n",
       "      <td>4.04</td>\n",
       "      <td>150898</td>\n",
       "      <td>fiction</td>\n",
       "      <td>41250.0</td>\n",
       "      <td>24750.0</td>\n",
       "      <td>7.50</td>\n",
       "      <td>3</td>\n",
       "      <td>Hachette Book Group</td>\n",
       "      <td>5500</td>\n",
       "    </tr>\n",
       "    <tr>\n",
       "      <th>4</th>\n",
       "      <td>2011.0</td>\n",
       "      <td>Daughter of Smoke &amp; Bone</td>\n",
       "      <td>Laini Taylor</td>\n",
       "      <td>English</td>\n",
       "      <td>Intermediate</td>\n",
       "      <td>4.04</td>\n",
       "      <td>198283</td>\n",
       "      <td>fiction</td>\n",
       "      <td>37952.5</td>\n",
       "      <td>22771.5</td>\n",
       "      <td>7.99</td>\n",
       "      <td>4</td>\n",
       "      <td>Penguin Group (USA) LLC</td>\n",
       "      <td>4750</td>\n",
       "    </tr>\n",
       "  </tbody>\n",
       "</table>\n",
       "</div>"
      ],
      "text/plain": [
       "   Publishing_Year                        Book_Name  \\\n",
       "0           1975.0                          Beowulf   \n",
       "1           1987.0                 Batman: Year One   \n",
       "2           2015.0                Go Set a Watchman   \n",
       "3           2008.0  When You Are Engulfed in Flames   \n",
       "4           2011.0         Daughter of Smoke & Bone   \n",
       "\n",
       "                                              Author Language Author_Rating  \\\n",
       "0                             Unknown, Seamus Heaney  English        Novice   \n",
       "1  Frank Miller, David Mazzucchelli, Richmond Lew...  English  Intermediate   \n",
       "2                                         Harper Lee  English        Novice   \n",
       "3                                      David Sedaris  English  Intermediate   \n",
       "4                                       Laini Taylor  English  Intermediate   \n",
       "\n",
       "   Average_Rating  Ratings    Genre  Gross_Sales  Publisher_Revenue  \\\n",
       "0            3.42   155903  fiction      34160.0            20496.0   \n",
       "1            4.23   145267  fiction      12437.5             7462.5   \n",
       "2            3.31   138669  fiction      47795.0            28677.0   \n",
       "3            4.04   150898  fiction      41250.0            24750.0   \n",
       "4            4.04   198283  fiction      37952.5            22771.5   \n",
       "\n",
       "   Sales_Price  Sales_Rank                       Publisher  Units_Sold  \n",
       "0         4.88           1        HarperCollins Publishers        7000  \n",
       "1         1.99           2        HarperCollins Publishers        6250  \n",
       "2         8.69           3  Amazon Digital Services,  Inc.        5500  \n",
       "3         7.50           3             Hachette Book Group        5500  \n",
       "4         7.99           4         Penguin Group (USA) LLC        4750  "
      ]
     },
     "execution_count": 127,
     "metadata": {},
     "output_type": "execute_result"
    }
   ],
   "source": [
    "df.head()"
   ]
  },
  {
   "cell_type": "code",
   "execution_count": 128,
   "id": "eac33de9-f0d5-4ea5-b240-e7f9c536d245",
   "metadata": {},
   "outputs": [
    {
     "data": {
      "text/plain": [
       "np.int64(0)"
      ]
     },
     "execution_count": 128,
     "metadata": {},
     "output_type": "execute_result"
    }
   ],
   "source": [
    "df.duplicated().sum()"
   ]
  },
  {
   "cell_type": "markdown",
   "id": "6c077387-6f1a-4734-b2c0-ab40b27d6dd8",
   "metadata": {},
   "source": [
    "# Analyizing Insights"
   ]
  },
  {
   "cell_type": "code",
   "execution_count": 129,
   "id": "2d10cad0-14e0-4c78-b5fb-03702f347338",
   "metadata": {},
   "outputs": [
    {
     "data": {
      "image/png": "[encoded data removed]",
      "text/plain": [
       "<Figure size 640x480 with 1 Axes>"
      ]
     },
     "metadata": {},
     "output_type": "display_data"
    }
   ],
   "source": [
    "plt.hist(df['Publishing_Year'], bins = 15)\n",
    "plt.xlabel('--Years--')\n",
    "plt.ylabel('--Frequency--')\n",
    "plt.title('Distribution of Publishing Years')\n",
    "plt.show()"
   ]
  },
  {
   "cell_type": "code",
   "execution_count": 130,
   "id": "dee0bc76-735a-46da-b1c4-4a8873d1f105",
   "metadata": {},
   "outputs": [
    {
     "data": {
      "image/png": "[encoded data removed]",
      "text/plain": [
       "<Figure size 500x100 with 1 Axes>"
      ]
     },
     "metadata": {},
     "output_type": "display_data"
    }
   ],
   "source": [
    "ax = df['Genre'].value_counts().plot(figsize = (5,1), kind = 'barh')\n",
    "ax.set_xlabel('Book Count')\n",
    "ax.set_title('Book Count by Genre')\n",
    "plt.show()"
   ]
  },
  {
   "cell_type": "code",
   "execution_count": 131,
   "id": "8fa80628-14d3-4b79-a0dc-596d05cb8003",
   "metadata": {},
   "outputs": [],
   "source": [
    "top10_authors = df.groupby('Author')['Average_Rating'].mean().sort_values(ascending = False).head(10)"
   ]
  },
  {
   "cell_type": "markdown",
   "id": "e1129ef0-bb51-4bab-857f-6fa91074f6fc",
   "metadata": {},
   "source": [
    "# Comparisons of Values"
   ]
  },
  {
   "cell_type": "code",
   "execution_count": 132,
   "id": "5a9536c4-1f04-42e6-9c7a-33e49fb9b289",
   "metadata": {},
   "outputs": [
    {
     "data": {
      "image/png": "[encoded data removed]",
      "text/plain": [
       "<Figure size 640x480 with 1 Axes>"
      ]
     },
     "metadata": {},
     "output_type": "display_data"
    }
   ],
   "source": [
    "sns.boxplot(data = df, x = 'Genre', y = 'Ratings')\n",
    "plt.xlabel('Genre')\n",
    "plt.ylabel('Ratings_Count')\n",
    "plt.title('Box Plot/ Genre<->Ratings Count')\n",
    "plt.show()"
   ]
  },
  {
   "cell_type": "code",
   "execution_count": 133,
   "id": "39c10084-35bd-48cf-b530-a0ef4c2f8382",
   "metadata": {},
   "outputs": [
    {
     "data": {
      "image/png": "[encoded data removed]",
      "text/plain": [
       "<Figure size 640x480 with 1 Axes>"
      ]
     },
     "metadata": {},
     "output_type": "display_data"
    }
   ],
   "source": [
    "language_dist = df['Language'].value_counts()\n",
    "plt.pie(language_dist, labels=language_dist.index)\n",
    "plt.title(\"Language Distribution\")\n",
    "plt.show()"
   ]
  },
  {
   "cell_type": "code",
   "execution_count": 134,
   "id": "376160fe-0ab9-4793-873d-d3ea16050dc6",
   "metadata": {},
   "outputs": [
    {
     "data": {
      "image/png": "[encoded data removed]",
      "text/plain": [
       "<Figure size 800x100 with 1 Axes>"
      ]
     },
     "metadata": {},
     "output_type": "display_data"
    }
   ],
   "source": [
    "(language_dist / language_dist.sum() * 100).plot(\n",
    "    kind=\"barh\", figsize=(8,1)\n",
    ")\n",
    "plt.xlabel(\"Books Percentage\")\n",
    "plt.ylabel(\"Language\")\n",
    "plt.title(\"Language Distribution\")\n",
    "plt.show()\n"
   ]
  },
  {
   "cell_type": "code",
   "execution_count": 158,
   "id": "2ff1229d-65a5-4e71-aa07-0a3201f70806",
   "metadata": {},
   "outputs": [
    {
     "data": {
      "image/png": "[encoded data removed]",
      "text/plain": [
       "<Figure size 1800x300 with 3 Axes>"
      ]
     },
     "metadata": {},
     "output_type": "display_data"
    }
   ],
   "source": [
    "# Step 1: Group by Year & Genre, sum sales\n",
    "sales_by_genre_year = df.groupby(['Publishing_Year', 'Genre'])['Units_Sold'].sum().reset_index()\n",
    "\n",
    "# Step 2: Filter for the three genres\n",
    "genres = ['fiction', 'nonfiction', 'children']\n",
    "filtered = sales_by_genre_year[sales_by_genre_year['Genre'].isin(genres)]\n",
    "\n",
    "# Step 3: Pivot table to get Years as index, Genres as columns\n",
    "pivot_df = filtered.pivot(index='Publishing_Year', columns='Genre', values='Units_Sold').fillna(0)\n",
    "\n",
    "# Step 4: Plot 3 side-by-side bar graphs\n",
    "fig, axes = plt.subplots(1, 3, figsize=(18, 3), sharey=True)  # 1 row, 3 columns\n",
    "\n",
    "for i, genre in enumerate(genres):\n",
    "    axes[i].bar(pivot_df.index, pivot_df[genre], label=genre)\n",
    "    axes[i].set_title(f\"{genre} Sales by Year\")\n",
    "    axes[i].set_xlabel(\"Year\")\n",
    "    axes[i].set_ylabel(\"Units Sold\")\n",
    "    axes[i].tick_params(axis='x', rotation=45)\n",
    "\n",
    "plt.tight_layout()\n",
    "plt.show()\n"
   ]
  },
  {
   "cell_type": "markdown",
   "id": "3e061da8-7eb1-4534-8211-6946b8bf50f6",
   "metadata": {},
   "source": [
    "# Groupings by different factors"
   ]
  },
  {
   "cell_type": "code",
   "execution_count": 135,
   "id": "2c0e66f6-9fda-4904-9bd0-12a8ed68f818",
   "metadata": {},
   "outputs": [
    {
     "data": {
      "text/plain": [
       "Index(['Publishing_Year', 'Book_Name', 'Author', 'Language', 'Author_Rating',\n",
       "       'Average_Rating', 'Ratings', 'Genre', 'Gross_Sales',\n",
       "       'Publisher_Revenue', 'Sales_Price', 'Sales_Rank', 'Publisher',\n",
       "       'Units_Sold'],\n",
       "      dtype='object')"
      ]
     },
     "execution_count": 135,
     "metadata": {},
     "output_type": "execute_result"
    }
   ],
   "source": [
    "df.columns"
   ]
  },
  {
   "cell_type": "code",
   "execution_count": 143,
   "id": "40a8f004-d98f-4534-ac56-0f094a5be638",
   "metadata": {},
   "outputs": [
    {
     "data": {
      "text/plain": [
       "Publisher\n",
       "Penguin Group (USA) LLC                 191581.104\n",
       "Random House LLC                        174956.244\n",
       "Amazon Digital Services,  Inc.          141767.772\n",
       "HarperCollins Publishers                126736.290\n",
       "Hachette Book Group                     107410.968\n",
       "Simon and Schuster Digital Sales Inc     46858.206\n",
       "Macmillan                                31249.830\n",
       "Name: Publisher_Revenue, dtype: float64"
      ]
     },
     "execution_count": 143,
     "metadata": {},
     "output_type": "execute_result"
    }
   ],
   "source": [
    "#by Publisher\n",
    "#This cell gives insights about the top earning Publishers.\n",
    "df.groupby('Publisher')['Publisher_Revenue'].sum().sort_values(ascending=False)"
   ]
  },
  {
   "cell_type": "code",
   "execution_count": 144,
   "id": "210b1c87-5948-4a56-9679-eb91b7747cff",
   "metadata": {},
   "outputs": [
    {
     "data": {
      "text/plain": [
       "Genre\n",
       "children      746.666667\n",
       "nonfiction    703.287500\n",
       "fiction       591.813038\n",
       "Name: Sales_Rank, dtype: float64"
      ]
     },
     "execution_count": 144,
     "metadata": {},
     "output_type": "execute_result"
    }
   ],
   "source": [
    "#by genre/sales\n",
    "#this sell is showing that the children books have the highest average sales rank\n",
    "df.groupby('Genre')['Sales_Rank'].mean().sort_values(ascending=False)"
   ]
  },
  {
   "cell_type": "code",
   "execution_count": 170,
   "id": "79f75dff-e497-48eb-9d69-96db4317782a",
   "metadata": {},
   "outputs": [
    {
     "data": {
      "image/png": "[encoded data removed]",
      "text/plain": [
       "<Figure size 800x300 with 1 Axes>"
      ]
     },
     "metadata": {},
     "output_type": "display_data"
    }
   ],
   "source": [
    "#sales by author\n",
    "tot_SBA = df.groupby('Author')['Gross_Sales'].sum()\n",
    "tot_SBA.sort_values(ascending=False).head(10).plot(kind= 'bar',figsize=(8,3))\n",
    "plt.title('Gross Sales By Author')\n",
    "plt.xlabel('Author')\n",
    "plt.ylabel('Gross Sales')\n",
    "plt.show()"
   ]
  },
  {
   "cell_type": "code",
   "execution_count": 180,
   "id": "b35ad9a9-9120-4903-8461-ce245eb8dcfb",
   "metadata": {},
   "outputs": [
    {
     "data": {
      "image/png": "[encoded data removed]",
      "text/plain": [
       "<Figure size 400x300 with 1 Axes>"
      ]
     },
     "metadata": {},
     "output_type": "display_data"
    }
   ],
   "source": [
    "#books sold in each year\n",
    "df.groupby('Publishing_Year')['Units_Sold'].sum().plot(kind='line', figsize=(4,3))\n",
    "plt.title('Sales per Year')\n",
    "plt.xlabel('Year')\n",
    "plt.ylabel('Units Sold')\n",
    "plt.show()\n",
    "#insights: Book sales increased exponentially over the past few years"
   ]
  },
  {
   "cell_type": "code",
   "execution_count": null,
   "id": "631ad63c-c2c3-49f0-a7c4-235c7c20fb9a",
   "metadata": {},
   "outputs": [],
   "source": []
  }
 ],
 "metadata": {
  "kernelspec": {
   "display_name": "Python 3 (ipykernel)",
   "language": "python",
   "name": "python3"
  },
  "language_info": {
   "codemirror_mode": {
    "name": "ipython",
    "version": 3
   },
   "file_extension": ".py",
   "mimetype": "text/x-python",
   "name": "python",
   "nbconvert_exporter": "python",
   "pygments_lexer": "ipython3",
   "version": "3.13.1"
  }
 },
 "nbformat": 4,
 "nbformat_minor": 5
}
